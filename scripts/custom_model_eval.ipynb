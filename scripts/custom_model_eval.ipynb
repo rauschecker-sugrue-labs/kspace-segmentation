{
 "cells": [
  {
   "cell_type": "markdown",
   "metadata": {},
   "source": [
    "# Kseg Custom Model Evaluation"
   ]
  },
  {
   "cell_type": "markdown",
   "metadata": {},
   "source": [
    "## Show Qualitative Results"
   ]
  },
  {
   "cell_type": "code",
   "execution_count": null,
   "metadata": {},
   "outputs": [],
   "source": [
    "import cv2\n",
    "import glob\n",
    "import matplotlib.pyplot as plt\n",
    "import nibabel as nib\n",
    "import numpy as np\n",
    "import torch"
   ]
  },
  {
   "cell_type": "code",
   "execution_count": null,
   "metadata": {},
   "outputs": [],
   "source": [
    "identifier = 'c94bf'\n",
    "batch_id = '0'\n",
    "\n",
    "input_file = f'/Users/me/pytorch_logs/train_worker_{identifier}_*/test_samples/batch_{batch_id}/input.nii.gz'\n",
    "gt_file = f'/Users/me/pytorch_logs/train_worker_{identifier}_*/test_samples/batch_{batch_id}/gt.nii.gz'\n",
    "pred_file = f'/Users/me/pytorch_logs/train_worker_{identifier}_*/test_samples/batch_{batch_id}/pred.nii.gz'"
   ]
  },
  {
   "cell_type": "code",
   "execution_count": null,
   "metadata": {},
   "outputs": [],
   "source": [
    "input_image = nib.load(glob.glob(input_file)[0])\n",
    "gt_image = nib.load(glob.glob(gt_file)[0])\n",
    "pred_image = nib.load(glob.glob(pred_file)[0])\n",
    "\n",
    "x = input_image.get_fdata()\n",
    "y = gt_image.get_fdata()\n",
    "y_hat = pred_image.get_fdata()\n",
    "\n",
    "\n",
    "# Extract middle slice along the z-axis\n",
    "selected_z = 32\n",
    "x_slice = x[:, :, selected_z]\n",
    "y_slice = y[:, :, selected_z]\n",
    "y_hat_slice = y_hat[:, :, selected_z]\n",
    "\n",
    "# Define a colormap where each class ID maps to an RGB color\n",
    "color_map = {\n",
    "    0: [0, 0, 0],  # Black for class 0 (background)\n",
    "    1: [0, 255, 0],  # Green for class 1 (CSF / femoral cartilage)\n",
    "    2: [255, 0, 0],  # Red for class 2 (cortical GM / tibial cartilage)\n",
    "    3: [0, 0, 255],  # Blue for class 3 (WM / patellar cartilage)\n",
    "    4: [255, 255, 0],  # Yellow for class 4 (deep GM / femur)\n",
    "    5: [0, 255, 255],  # Cyan for class 5 (brain stem / tibia)\n",
    "    6: [255, 0, 255],  # Magenta for class 6 (cerebellum / patella)\n",
    "}\n",
    "\n",
    "# Transform x\n",
    "x_slice = cv2.normalize(\n",
    "    x_slice, None, 255, 0, cv2.NORM_MINMAX, cv2.CV_8U\n",
    ")\n",
    "x_slice = cv2.cvtColor(x_slice, cv2.COLOR_GRAY2RGB)\n",
    "x_slice = np.transpose(torch.from_numpy(x_slice), axes=[2, 0, 1])\n",
    "\n",
    "# Transform y\n",
    "output_image = np.zeros(\n",
    "    (y_slice.shape[0], y_slice.shape[1], 3), dtype=np.uint8\n",
    ")\n",
    "for value, color in color_map.items():\n",
    "    mask = y_slice == value\n",
    "    output_image[mask] = color\n",
    "y_slice = np.transpose(torch.from_numpy(output_image), axes=[2, 0, 1])\n",
    "y_slice = torch.from_numpy(\n",
    "    cv2.addWeighted(x_slice.numpy(), 0.5, y_slice.numpy(), 0.5, 0)\n",
    ").permute(1,2,0)\n",
    "\n",
    "# Transform y_hat\n",
    "output_image = np.zeros(\n",
    "    (y_hat_slice.shape[0], y_hat_slice.shape[1], 3), dtype=np.uint8\n",
    ")\n",
    "for value, color in color_map.items():\n",
    "    mask = y_hat_slice == value\n",
    "    output_image[mask] = color\n",
    "y_hat_slice = np.transpose(\n",
    "    torch.from_numpy(output_image), axes=[2, 0, 1]\n",
    ")\n",
    "y_hat_slice = torch.from_numpy(\n",
    "    cv2.addWeighted(x_slice.numpy(), 0.5, y_hat_slice.numpy(), 0.5, 0)\n",
    ").permute(1,2,0)"
   ]
  },
  {
   "cell_type": "code",
   "execution_count": null,
   "metadata": {},
   "outputs": [],
   "source": [
    "plt.imshow(y_hat_slice)\n",
    "plt.axis('off')\n",
    "plt.savefig(f'{identifier}_y_hat_{selected_z}.png', bbox_inches='tight', pad_inches=0)"
   ]
  },
  {
   "cell_type": "code",
   "execution_count": null,
   "metadata": {},
   "outputs": [],
   "source": [
    "# plt.imshow(y_slice)\n",
    "# plt.axis('off')\n",
    "# plt.savefig(f'{identifier}_y_{selected_z}.png', bbox_inches='tight', pad_inches=0)"
   ]
  },
  {
   "cell_type": "code",
   "execution_count": null,
   "metadata": {},
   "outputs": [],
   "source": []
  }
 ],
 "metadata": {
  "kernelspec": {
   "display_name": "kseg",
   "language": "python",
   "name": "python3"
  },
  "language_info": {
   "codemirror_mode": {
    "name": "ipython",
    "version": 3
   },
   "file_extension": ".py",
   "mimetype": "text/x-python",
   "name": "python",
   "nbconvert_exporter": "python",
   "pygments_lexer": "ipython3",
   "version": "3.10.12"
  }
 },
 "nbformat": 4,
 "nbformat_minor": 2
}
